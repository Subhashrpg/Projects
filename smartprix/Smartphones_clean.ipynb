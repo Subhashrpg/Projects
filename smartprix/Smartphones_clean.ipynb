{
 "cells": [
  {
   "cell_type": "code",
   "execution_count": 2,
   "id": "512dc71c",
   "metadata": {},
   "outputs": [],
   "source": [
    "import pandas as pd\n",
    "import numpy as np\n",
    "import re"
   ]
  },
  {
   "cell_type": "code",
   "execution_count": null,
   "id": "6da56fe9",
   "metadata": {},
   "outputs": [],
   "source": [
    "df = pd.read_csv(r\"D:\\Projects\\smartprix\\smartphones1.csv\")\n",
    "df.head(1)"
   ]
  },
  {
   "cell_type": "raw",
   "id": "5c965c71",
   "metadata": {},
   "source": [
    "ASSESSING DATA\n",
    "    1. Dirty data\n",
    "        >.model --------- duplicated value in (380,381,383,386,387,388,391,393,407)--------------accuracy\n",
    "                ----------ram column mix with the model column --------------validity\n",
    "                ---------- some same is written in upper and some are written in lower ------- consistency\n",
    "        >. price----------- has \"rupee\" type symbol ---------------------------- validity\n",
    "                            has \",\" between price ----------------------------- validity\n",
    "        >. rating --------- missing values -------------------------------------- completeness\n",
    "        >. sim-------------- \n",
    "        >. processor -------- \n",
    "        >. ram -------------- \n",
    "        >. battery ---------- \n",
    "        >. display ----------- sometimes contain the battery info ---------------- validity\n",
    "        >. camera -----------\n",
    "        >. card ------------- missing value ------------------------ completeness \n",
    "        shifted value for (696)\n",
    "    2. Untidy data\n",
    "        >. sim ------------- can be make 3 column for has_5g,has_nfc,has_irblaster\n",
    "        >. processor -------- 3 columns for processor name, cores, cpu speed\n",
    "        >. ram --------------- column for ram and rom\n",
    "        >. battery ----------- columns for battery capacity and fast charging\n",
    "        >. display ------------ columns for size, rosulution width and height and frequency\n",
    "        >. camera -------------- rear and front camera columns \n",
    "        >. card ----------------- columns for supported and extended upto\n",
    "        "
   ]
  },
  {
   "cell_type": "code",
   "execution_count": null,
   "id": "22325266",
   "metadata": {},
   "outputs": [],
   "source": [
    "# making a copy of data\n",
    "df1 = df.copy()\n",
    "df1.head(2)"
   ]
  },
  {
   "cell_type": "code",
   "execution_count": null,
   "id": "70af9e1e",
   "metadata": {},
   "outputs": [],
   "source": [
    "# REGEX PATTERN\n",
    "\n",
    "text = \"OPPO Reno 10 Pro\"\n",
    "p1 = re.compile(r\"\\s*\\d+G\")\n",
    "match = re.findall(p1,text)\n",
    "df[\"model\"][df[\"model\"].str.contains(r\"\\s*\\d+G\")]\n",
    "print(match)"
   ]
  },
  {
   "cell_type": "code",
   "execution_count": null,
   "id": "dc5509a9",
   "metadata": {},
   "outputs": [],
   "source": [
    "def camera_extractor(text): \n",
    "    \n",
    "    if \"Quad\" in text:\n",
    "        return \"4\"\n",
    "    elif \"Triple\" in text:\n",
    "        return \"3\"\n",
    "    elif \"Dual\" in text:\n",
    "        return \"2\"\n",
    "    elif \"Missing\" in text:\n",
    "        return \"Misiing\"\n",
    "    else: \n",
    "        return \"1\""
   ]
  },
  {
   "cell_type": "code",
   "execution_count": null,
   "id": "fea01133",
   "metadata": {},
   "outputs": [],
   "source": [
    "# ROUND 2 AFTER RELEASING THE BIG MISTAKE\n",
    "\n",
    "df.reset_index(inplace = True)\n",
    "df[\"index\"] = df[\"index\"] +2\n",
    "\n",
    "df.loc[temp_df.index,temp_df.columns] = x\n",
    "temp_df = df[df[\"index\"] == 696].iloc[:,5:].shift(1,axis = 1)\n",
    "x = df[df[\"index\"] == 696].iloc[:,5:].shift(1,axis = 1).values\n",
    "\n",
    "df2 = df[df[\"index\"].isin(battery_rows & display_rows & camera_rows)].iloc[:,7:11].shift(1,axis = 1)\n",
    "value1 = df2.values\n",
    "df.loc[df2.index,df2.columns] = value1\n",
    "\n",
    "df3 = df[df[\"index\"].isin(battery_rows & display_rows & camera_rows)].iloc[:,10:].shift(1,axis = 1)\n",
    "value2 = df3.values\n",
    "df.loc[df3.index,df3.columns] = value2\n",
    "df[df[\"index\"].isin(battery_rows & display_rows & camera_rows)]\n",
    "\n",
    "df4 = df[df[\"index\"].isin(camera_rows.difference(display_rows))].iloc[:,9:11].shift(-1,axis = 1)\n",
    "values3 = df4.values\n",
    "df.loc[df4.index,df4.columns] = values3\n",
    "\n",
    "df[\"card\"].isnull().sum()\n",
    "df[\"card\"].fillna(\"Not available\", inplace = True)\n",
    "\n",
    "df5 = df[~df[\"card\"].str.contains(\"Memory Card\")].iloc[:,10:].shift(1,axis = 1)\n",
    "df.loc[df5.index,df5.columns] = df5.values\n",
    "\n",
    "a1 = df[df[\"index\"].isin(row1)].iloc[:,9]\n",
    "a2 = df[df[\"index\"].isin(row1)].iloc[:,8]\n",
    "sn = a2.str.split(\" \").str.get(1).str.strip().values\n",
    "df.loc[a1.index,\"processor_brand\"] = sn\n",
    "a2 = df[df[\"index\"].isin(row2)].iloc[:,9:12].shift(1,axis = 1)\n",
    "df.loc[a2.index,a2.columns] = a2.values\n",
    "a3 = df[df[\"index\"].isin(row3)].iloc[:,9]\n",
    "a3 = a3.str.split(\",\").str.get(0).str.strip().str.replace(r\"\\s*G2\",\"\",regex = True).values"
   ]
  },
  {
   "cell_type": "code",
   "execution_count": null,
   "id": "4e10f9b8",
   "metadata": {},
   "outputs": [],
   "source": [
    "battery_rows = set((120,261,344,379,464,500))\n",
    "display_rows = set((120,261,344,379,464,500))\n",
    "camera_rows = set((120,200,261,276,287,344,351,373,379,389,443,464,500,506,536,587,655,675))\n",
    "# card_rows = set(())"
   ]
  },
  {
   "cell_type": "code",
   "execution_count": null,
   "id": "a025d2c3",
   "metadata": {},
   "outputs": [],
   "source": [
    "row1 = set((638,645))\n",
    "row2 = set((826,811,778,729,728))\n",
    "row3 = set((127,160,188,254,494))\n",
    "row4 = set((81,214,447))\n",
    "row5 = set((828,646))\n",
    "\n",
    "a3 = df[df[\"index\"].isin(row3)].iloc[:,9]\n",
    "# a3 = a3.str.split(\",\").str.get(0).str.strip().str.replace(r\"\\s*G2\",\"\",regex = True).values\n",
    "df[df[\"index\"].isin(row3)].iloc[:,9] = a3.str.split(\",\").str.get(0).str.strip().str.replace(r\"\\s*G2\",\"\",regex = True).values"
   ]
  },
  {
   "cell_type": "code",
   "execution_count": null,
   "id": "918525f8",
   "metadata": {},
   "outputs": [],
   "source": [
    "# other day\n",
    "\n",
    "af1 = df[df[\"processor_brand\"] ==\"Quad\"].iloc[:,9:12].shift(1,axis = 1)\n",
    "df.loc[af1.index,af1.columns] = af1.values\n",
    "af2 = df[df[\"processor_brand\"] ==\"Octa\"].iloc[:,9:12].shift(1,axis = 1)\n",
    "df.loc[af2.index,af2.columns] = af2.values\n",
    "df.loc[af2.index,af3.columns[9]] = [\"Snapdragon\",\"Snapdragon\",\"Snapdragon\",\"Snapdragon\"]"
   ]
  },
  {
   "cell_type": "code",
   "execution_count": null,
   "id": "ccb071d9",
   "metadata": {},
   "outputs": [],
   "source": [
    "\"\"\"\n",
    "df.loc[af5.index,af5.columns[9]] = np.array([\"Google Tensor\"])\n",
    "df.loc[af5.index,af5.columns[9]] = np.array([\"Bionic\" for i in range(2)])\n",
    "df.loc[af5.index,af5.columns] = af5.values\n",
    "df.loc[af5.index,\"processor_brand\"] = np.array([\"Unisoc\" for i in range(2)])\n",
    "af5 = df[df[\"processor_brand\"] ==\"Unisoc,\"].iloc[:,9]\n",
    "df.loc[af6.index,\"core\"] = np.array([\"Octa\" for i in range(698)])\n",
    "df.loc[af6.index,\"core\"] = np.array([\"Dual\"])\n",
    "\n",
    "\"\"\""
   ]
  },
  {
   "cell_type": "code",
   "execution_count": null,
   "id": "fb77d1e5",
   "metadata": {},
   "outputs": [],
   "source": [
    "df[\"processor_speed\"].isnull().sum()\n",
    "# df[\"processor_speed\"].fillna(\"Not available\",inplace = True)\n",
    "r1 = df[df[\"index\"].isin(ram_rows)].iloc[:,13:15].shift(1,axis = 1)\n",
    "df.loc[r1.index,r1.columns] = r1.values"
   ]
  },
  {
   "cell_type": "code",
   "execution_count": null,
   "id": "382859af",
   "metadata": {},
   "outputs": [],
   "source": [
    "# internal = df[\"ram\"].str.findall(r\"\\d+\\s*GB\").str.get(0).str.strip().str.replace(r\"\\s*GB\",\"\",regex = True).astype(\"int8\")\n",
    "# df.insert(13,\"internal_memory\",internal)\n",
    "\n",
    "external = df[\"ram\"].str.findall(r\"\\d+\\s*(?:GB|TB)\").str.get(1).str.strip().str.replace(r\"\\s*(GB|TB)\",\"\",regex = True).str.strip()\n",
    "df.insert(14,\"external_memory\",external)\n",
    "df.loc[na.index,\"fast_charging\"] = np.array([True for i in range(56)])\n",
    "df[df[\"fast_charging\"].isnull()][\"battery\"].str.contains(\"Fast Charging\").sum()"
   ]
  },
  {
   "cell_type": "code",
   "execution_count": null,
   "id": "3e2c85c2",
   "metadata": {},
   "outputs": [],
   "source": [
    "patterns\n",
    "r\"\\d+\\s*(?:GB|TB)\n",
    "r\"Battery\\s+(\\d+)\\s*mAh(?!\\s*\\d+).*Fast Charging\"\n",
    "pattern = r\"Battery\\s+\\d+\\s*mAh(?=.*Fast Charging\\b)\"\n",
    "\n",
    "pattern = r\"Battery\\s+\\d+\\s*mAh(?=.*Fast Charging\\b)\"\n",
    "pattern = r\"Battery\\s+\\d+\\s*mAh(?=\\sBattery\\s*with\\s*Fast Charging$)\""
   ]
  },
  {
   "cell_type": "code",
   "execution_count": null,
   "id": "a86bf84a",
   "metadata": {},
   "outputs": [],
   "source": [
    "# battery = df[\"battery\"].str.strip().str.findall(r\"\\d+\\s*\").str.get(0).str.strip()\n",
    "# df.insert(16,\"battery_capacity\",battery)\n",
    "\n",
    "# fast = df[\"battery\"].str.strip().str.findall(r\"\\d{1,3}W\").str.get(0).str.replace(\"W\",\"\").str.strip()\n",
    "# df.insert(17,\"fast_charging\",fast)\n",
    "\n",
    "df[df[\"battery\"].str.contains(r\"\\d+\\s*mAh(?=\\sBattery\\s*with\\s*Fast Charging$)\", regex = True)]"
   ]
  },
  {
   "cell_type": "markdown",
   "id": "a84f5782",
   "metadata": {},
   "source": [
    "# if got light start from here"
   ]
  },
  {
   "cell_type": "code",
   "execution_count": null,
   "id": "fd6e9918",
   "metadata": {},
   "outputs": [],
   "source": [
    "size = df[\"display\"].str.strip().str.split(\" \").str.get(0).str.strip()\n",
    "df.insert(19,\"screen_size\",size)\n",
    "\n",
    "width = df[\"display\"].str.strip().str.split(\",\").str.get(1).str.strip().str.split(\"x\").str.get(0).str.strip()\n",
    "df.insert(20,\"resolution_width\",width)\n",
    "\n",
    "height = df[\"display\"].str.strip().str.split(\",\").str.get(1).str.split(\"x\").str.get(1).str.strip().str.replace(r\"\\s*p\",\"\",regex = True)\n",
    "df.insert(21,\"resolution_height\",height)\n",
    "rate = df[\"display\"].str.findall(r\"(\\d+)\\s*Hz\").str.get(0)\n",
    "df.insert(22,\"refresh_rate\",rate)\n",
    "\n",
    "df[\"refresh_rate\"].fillna(\"Not available\", inplace = True)\n",
    "df[\"refresh_rate\"].isnull().sum()\n",
    "\n",
    "n1 = df[\"camera\"].str.split(\"&\").str.get(0).apply(camera_extractor).str.strip()\n",
    "df.insert(24,\"no_rear_cameras\",n1)\n",
    "\n",
    "n2 = df[\"camera\"].str.split(\"&\").str.get(1).apply(camera_extractor).str.strip()\n",
    "df.insert(25,\"no_front_camera\",n2)\n",
    "\n",
    "rear = df[\"camera\"].str.split(\"MP\").str.get(0).str.strip()\n",
    "df.insert(26,\"rear_camera\",rear)\n",
    "\n",
    "front = df[\"camera\"].str.split(\"&\").str.get(1).str.strip().str.split(\"MP\").str.get(0).str.lstrip().str.strip()\n",
    "df.insert(27,\"front_camera\",front)\n",
    "\n",
    "df[\"no_front_camera\"].fillna(\"Not available\",inplace = True)\n",
    "df[\"front_camera\"].fillna(\"Not available\",inplace = True)\n",
    "df[\"card\"].fillna(\"Not available\",inplace = True)\n",
    "\n",
    "c1 = df[\"card\"].str.strip().str.findall(r\"\\s*(\\d+)\\s*\").str.get(0).str.strip()\n",
    "df.insert(28,\"storage_support\",c1)\n",
    "\n",
    "memory = df[\"card\"].str.strip().str.contains(\"Memory Card\")\n",
    "df.insert(28,\"memory_cards\",memory)\n",
    "\n",
    "df[\"storage_support\"].fillna(\"Not available\",inplace = True)\n",
    "\n",
    "a = df[df[\"storage_support\"] == '1']\n",
    "df.loc[a.index,\"storage_support\"] = np.array([1024 for i in range(241)])\n",
    "\n",
    "a = df[df[\"storage_support\"] == '2']\n",
    "df.loc[a.index,\"storage_support\"] = np.array([2048 for i in range(7)])"
   ]
  },
  {
   "cell_type": "code",
   "execution_count": null,
   "id": "0b9d0818",
   "metadata": {},
   "outputs": [],
   "source": [
    "def camera_extractor(text):\n",
    "    if isinstance(text, float):\n",
    "        return None  # or any default value you prefer for float values\n",
    "    elif \"Quad\" in text:\n",
    "        return \"4\"\n",
    "    elif \"Triple\" in text:\n",
    "        return \"3\"\n",
    "    elif \"Dual\" in text:\n",
    "        return \"2\"\n",
    "    else:\n",
    "        return \"1\""
   ]
  },
  {
   "cell_type": "code",
   "execution_count": null,
   "id": "dd437888",
   "metadata": {},
   "outputs": [],
   "source": [
    "def os_rearrange(text):\n",
    "    \n",
    "    if \"Android\" in text:\n",
    "        return \"android\"\n",
    "    elif \"iOS\" in text:\n",
    "        return \"ios\"\n",
    "    elif \"Blackberry\" or \"Not available\" in text:\n",
    "        return \"other\"\n",
    "    else:\n",
    "        pass"
   ]
  },
  {
   "cell_type": "code",
   "execution_count": null,
   "id": "1ded351a",
   "metadata": {},
   "outputs": [],
   "source": [
    "df[\"os\"] = df[\"os\"].apply(os_rearrange)\n"
   ]
  },
  {
   "cell_type": "markdown",
   "id": "32ff5424",
   "metadata": {},
   "source": [
    "# round 3 cleanning "
   ]
  },
  {
   "cell_type": "code",
   "execution_count": 20,
   "id": "b2c6521e",
   "metadata": {},
   "outputs": [],
   "source": [
    "brand_name = df[\"model\"].str.strip().str.split(\" \").str.get(0).str.strip().str.lower()\n",
    "df.insert(0,\"brand_name\",brand_name)\n",
    "df[\"brand_name\"] = df[\"brand_name\"].astype(\"category\")\n",
    "\n",
    "lam = lambda x: True if x == 1 else False\n",
    "df[\"has_5g\"] = df[\"has_5g\"].apply(lam)\n",
    "df[\"has_irblaster\"] = df[\"has_irblaster\"].apply(lam)\n",
    "\n",
    "df[\"processor_brand\"] = df[\"processor_brand\"].str.replace(\",\",\"\").str.strip().str.lower().astype(\"category\")\n",
    "df[\"processor_brand\"].replace({\"not available\": np.nan}, inplace =True )\n",
    "\n",
    "df.rename(columns = {\"core\": \"num_cores\"}, inplace = True)\n",
    "df[\"num_cores\"] = df[\"num_cores\"].apply(cores_to_num)\n",
    "\n",
    "df[\"processor_speed\"].replace({\"Not available\":np.nan}, inplace = True)\n",
    "df[\"processor_speed\"] = df[\"processor_speed\"].astype(float)\n",
    "\n",
    "df[\"battery_capacity\"].replace({\"Not available\":np.nan}, inplace = True)\n",
    "df[\"battery_capacity\"] = df[\"battery_capacity\"].astype(float)\n",
    "\n",
    "fast_charging = df[\"fast_charging\"].apply(fast_charge_option)\n",
    "df.insert(13,\"fast_charging_available\",fast_charging)\n",
    "df['fast_charging'].replace([\"True\",\"False\"],np.nan, inplace = True)\n",
    "df['fast_charging'] = df['fast_charging'].astype(float)\n",
    "\n",
    "df.rename(columns = {\"internal_memory\":\"ram_capacity\",\"external_memory\":\"internal_memory\"}, inplace = True)\n",
    "df[\"ram_capacity\"].replace({\"Not available\":np.nan}, inplace = True)\n",
    "df[\"ram_capacity\"] = df[\"ram_capacity\"].astype(float)\n",
    "df[\"internal_memory\"] = df[\"internal_memory\"].astype(float)\n",
    "\n",
    "refresh = df[\"refresh_rate\"]\n",
    "df.drop(columns = \"refresh_rate\", inplace = True)\n",
    "df.insert(16,\"refresh_rate\",refresh)\n",
    "\n",
    "df[\"no_front_camera\"].replace({\"Not available\":False}, inplace = True)\n",
    "df[\"no_front_camera\"] = df[\"no_front_camera\"].astype(float)\n",
    "\n",
    "df[\"front_camera\"].replace({\"Not available\":np.nan}, inplace = True)\n",
    "df[\"front_camera\"] = df[\"front_camera\"].astype(float)\n",
    "df[\"rear_camera\"] = df[\"rear_camera\"].astype(int)"
   ]
  },
  {
   "cell_type": "code",
   "execution_count": 123,
   "id": "da94511d",
   "metadata": {},
   "outputs": [
    {
     "data": {
      "text/html": [
       "<div>\n",
       "<style scoped>\n",
       "    .dataframe tbody tr th:only-of-type {\n",
       "        vertical-align: middle;\n",
       "    }\n",
       "\n",
       "    .dataframe tbody tr th {\n",
       "        vertical-align: top;\n",
       "    }\n",
       "\n",
       "    .dataframe thead th {\n",
       "        text-align: right;\n",
       "    }\n",
       "</style>\n",
       "<table border=\"1\" class=\"dataframe\">\n",
       "  <thead>\n",
       "    <tr style=\"text-align: right;\">\n",
       "      <th></th>\n",
       "      <th>brand_name</th>\n",
       "      <th>model</th>\n",
       "      <th>price</th>\n",
       "      <th>rating</th>\n",
       "      <th>has_5g</th>\n",
       "      <th>has_nfc</th>\n",
       "      <th>has_irblaster</th>\n",
       "      <th>processor_brand</th>\n",
       "      <th>num_cores</th>\n",
       "      <th>processor_speed</th>\n",
       "      <th>...</th>\n",
       "      <th>resolution_width</th>\n",
       "      <th>resolution_height</th>\n",
       "      <th>refresh_rate</th>\n",
       "      <th>no_rear_cameras</th>\n",
       "      <th>no_front_camera</th>\n",
       "      <th>rear_camera</th>\n",
       "      <th>front_camera</th>\n",
       "      <th>memory_cards</th>\n",
       "      <th>storage_support</th>\n",
       "      <th>os</th>\n",
       "    </tr>\n",
       "  </thead>\n",
       "  <tbody>\n",
       "    <tr>\n",
       "      <th>0</th>\n",
       "      <td>oppo</td>\n",
       "      <td>OPPO Reno 10 Pro</td>\n",
       "      <td>39999</td>\n",
       "      <td>87.0</td>\n",
       "      <td>True</td>\n",
       "      <td>True</td>\n",
       "      <td>True</td>\n",
       "      <td>snapdragon</td>\n",
       "      <td>8.0</td>\n",
       "      <td>2.4</td>\n",
       "      <td>...</td>\n",
       "      <td>1080</td>\n",
       "      <td>2412</td>\n",
       "      <td>120</td>\n",
       "      <td>3</td>\n",
       "      <td>1</td>\n",
       "      <td>50.0</td>\n",
       "      <td>32</td>\n",
       "      <td>False</td>\n",
       "      <td>Not supported</td>\n",
       "      <td>android</td>\n",
       "    </tr>\n",
       "  </tbody>\n",
       "</table>\n",
       "<p>1 rows × 26 columns</p>\n",
       "</div>"
      ],
      "text/plain": [
       "  brand_name             model  price  rating  has_5g  has_nfc  has_irblaster  \\\n",
       "0       oppo  OPPO Reno 10 Pro  39999    87.0    True     True           True   \n",
       "\n",
       "  processor_brand  num_cores  processor_speed  ...  resolution_width  \\\n",
       "0      snapdragon        8.0              2.4  ...              1080   \n",
       "\n",
       "   resolution_height  refresh_rate  no_rear_cameras  no_front_camera  \\\n",
       "0               2412           120                3                1   \n",
       "\n",
       "   rear_camera  front_camera  memory_cards storage_support       os  \n",
       "0         50.0            32         False   Not supported  android  \n",
       "\n",
       "[1 rows x 26 columns]"
      ]
     },
     "execution_count": 123,
     "metadata": {},
     "output_type": "execute_result"
    }
   ],
   "source": [
    "df.head(1)"
   ]
  },
  {
   "cell_type": "code",
   "execution_count": 94,
   "id": "7ea74f9b",
   "metadata": {},
   "outputs": [],
   "source": [
    "def cores_to_num(text):\n",
    "    if \"Deca\" in text:\n",
    "        return 10\n",
    "    if \"Octa\" in text:\n",
    "        return 8\n",
    "    if \"Hexa\" in text:\n",
    "        return 6\n",
    "    if \"Quad\" in text:\n",
    "        return 4\n",
    "    if \"Dual\" in text:\n",
    "        return 2\n",
    "    else:\n",
    "        return np.nan\n",
    "\n",
    "def fast_charge_option(text):\n",
    "    if \"True\" in text:\n",
    "        return True\n",
    "    elif \"False\" in text:\n",
    "        return False\n",
    "    else:\n",
    "        return True"
   ]
  },
  {
   "cell_type": "code",
   "execution_count": 156,
   "id": "8472241e",
   "metadata": {},
   "outputs": [],
   "source": []
  },
  {
   "cell_type": "code",
   "execution_count": 176,
   "id": "3c0a1822",
   "metadata": {},
   "outputs": [
    {
     "name": "stdout",
     "output_type": "stream",
     "text": [
      "<class 'pandas.core.frame.DataFrame'>\n",
      "Int64Index: 841 entries, 0 to 840\n",
      "Data columns (total 26 columns):\n",
      " #   Column                   Non-Null Count  Dtype   \n",
      "---  ------                   --------------  -----   \n",
      " 0   brand_name               841 non-null    category\n",
      " 1   model                    841 non-null    object  \n",
      " 2   price                    841 non-null    int64   \n",
      " 3   rating                   731 non-null    float64 \n",
      " 4   has_5g                   841 non-null    bool    \n",
      " 5   has_nfc                  841 non-null    bool    \n",
      " 6   has_irblaster            841 non-null    bool    \n",
      " 7   processor_brand          780 non-null    category\n",
      " 8   num_cores                838 non-null    float64 \n",
      " 9   processor_speed          831 non-null    float64 \n",
      " 10  ram_capacity             839 non-null    float64 \n",
      " 11  internal_memory          841 non-null    float64 \n",
      " 12  battery_capacity         835 non-null    float64 \n",
      " 13  fast_charging_available  841 non-null    bool    \n",
      " 14  fast_charging            578 non-null    float64 \n",
      " 15  screen_size              841 non-null    float64 \n",
      " 16  refresh_rate             841 non-null    int32   \n",
      " 17  resolution_width         841 non-null    int64   \n",
      " 18  resolution_height        841 non-null    int64   \n",
      " 19  no_rear_cameras          841 non-null    int64   \n",
      " 20  no_front_camera          841 non-null    float64 \n",
      " 21  primary_rear_camera      841 non-null    int32   \n",
      " 22  primary_front_camera     839 non-null    float64 \n",
      " 23  memory_cards             841 non-null    bool    \n",
      " 24  storage_support          841 non-null    float64 \n",
      " 25  os                       841 non-null    object  \n",
      "dtypes: bool(5), category(2), float64(11), int32(2), int64(4), object(2)\n",
      "memory usage: 132.5+ KB\n"
     ]
    }
   ],
   "source": [
    "df.info()"
   ]
  },
  {
   "cell_type": "code",
   "execution_count": 179,
   "id": "de21168d",
   "metadata": {},
   "outputs": [],
   "source": [
    "df.to_csv(r\"D:\\Projects\\smartprix\\smartphones_final_clean.csv\", index = False)"
   ]
  }
 ],
 "metadata": {
  "kernelspec": {
   "display_name": "Python 3 (ipykernel)",
   "language": "python",
   "name": "python3"
  },
  "language_info": {
   "codemirror_mode": {
    "name": "ipython",
    "version": 3
   },
   "file_extension": ".py",
   "mimetype": "text/x-python",
   "name": "python",
   "nbconvert_exporter": "python",
   "pygments_lexer": "ipython3",
   "version": "3.10.9"
  }
 },
 "nbformat": 4,
 "nbformat_minor": 5
}
